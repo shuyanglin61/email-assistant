{
  "cells": [
    {
      "cell_type": "markdown",
      "id": "9e833386",
      "metadata": {
        "id": "9e833386"
      },
      "source": [
        "# Test Notebook\n",
        "\n",
        "This tutorial notebook will go through the installation and application of the application."
      ]
    },
    {
      "cell_type": "markdown",
      "id": "aa7f6ac5",
      "metadata": {
        "id": "aa7f6ac5"
      },
      "source": [
        "## Package Installation\n",
        "\n",
        "These packages are needed for this application:\n",
        "\n",
        "+ streamlit\n",
        "+ openai\n",
        "\n",
        "The following code will help to install them locally."
      ]
    },
    {
      "cell_type": "code",
      "execution_count": 1,
      "id": "5b2f63cb",
      "metadata": {
        "id": "5b2f63cb",
        "outputId": "1fceeefc-566a-4937-fdac-1a1430725441",
        "colab": {
          "base_uri": "https://localhost:8080/"
        }
      },
      "outputs": [
        {
          "output_type": "execute_result",
          "data": {
            "text/plain": [
              "0"
            ]
          },
          "metadata": {},
          "execution_count": 1
        }
      ],
      "source": [
        "# install packages\n",
        "import os\n",
        "os.system('pip install openai')\n",
        "os.system('pip install streamlit')"
      ]
    },
    {
      "cell_type": "markdown",
      "id": "ad09d81e",
      "metadata": {
        "id": "ad09d81e"
      },
      "source": [
        "## Run Application\n",
        "\n",
        "The following code will run the frontend page on local. Use the stop button in Jupyter Notebook to stop the app."
      ]
    },
    {
      "cell_type": "code",
      "execution_count": 3,
      "id": "abb44562",
      "metadata": {
        "id": "abb44562",
        "outputId": "7f3749f0-b53b-4b54-99e7-622c18843902",
        "colab": {
          "base_uri": "https://localhost:8080/"
        }
      },
      "outputs": [
        {
          "output_type": "execute_result",
          "data": {
            "text/plain": [
              "512"
            ]
          },
          "metadata": {},
          "execution_count": 3
        }
      ],
      "source": [
        "# run on local\n",
        "os.system('streamlit run frontend.py')"
      ]
    },
    {
      "cell_type": "markdown",
      "source": [
        "As we don't wanna spend time on Google Colab envs, we could also see the app on 🤗[Hugging Face](https://huggingface.co/spaces/HayashiShio/email-assistant-special-course)."
      ],
      "metadata": {
        "id": "UTVij2mP3s_O"
      },
      "id": "UTVij2mP3s_O"
    },
    {
      "cell_type": "markdown",
      "id": "cbad015b",
      "metadata": {
        "id": "cbad015b"
      },
      "source": [
        "## Backend Tutorial\n",
        "\n",
        "This is a tutorial to go throught the backend."
      ]
    },
    {
      "cell_type": "code",
      "execution_count": 5,
      "id": "360508e4",
      "metadata": {
        "id": "360508e4",
        "outputId": "107e3c5b-0553-44cf-a65d-800e70c20f64",
        "colab": {
          "base_uri": "https://localhost:8080/"
        }
      },
      "outputs": [
        {
          "output_type": "stream",
          "name": "stdout",
          "text": [
            "API key:··········\n",
            "\n",
            "\n",
            "Hi John Doe,\n",
            "\n",
            "I am writing to request a referral for an internship. I am a hard-working and motivated individual who is looking for an opportunity to learn and grow in my career. I would be grateful if you could provide me with a referral to an organization where I could intern. Thank you in advance for your help.\n",
            "\n"
          ]
        }
      ],
      "source": [
        "## run source code\n",
        "import getpass\n",
        "import openai\n",
        "\n",
        "## get api_key\n",
        "openai.api_key = getpass.getpass(\"API key:\")\n",
        "\n",
        "## source code in backend\n",
        "def email(\n",
        "    start:str = \"Hi, John Doe\",\n",
        "    len:int = 250,\n",
        "    draft:str = \"recruiter, give me an referral for internship.\",\n",
        "    topic:str = 'Request for referral',\n",
        "    random_state:float = 0.9\n",
        "    ) -> str:\n",
        "    \n",
        "    return openai.Completion.create(\n",
        "        engine='text-davinci-002',\n",
        "        prompt=\"Write me a professional style email start with '\" + start + \"' about '\" + topic + \"' and the email should be based on this draft: \\\"\" + draft + \"\\\"\\n\",\n",
        "        temperature = random_state,\n",
        "        max_tokens= len,\n",
        "        top_p=1,\n",
        "        frequency_penalty=1,\n",
        "        presence_penalty=1,\n",
        "        best_of=2\n",
        "    ).get(\"choices\")[0]['text'].strip()\n",
        "\n",
        "## print the result\n",
        "print('\\n')\n",
        "print(email(), end='\\n\\n')"
      ]
    },
    {
      "cell_type": "markdown",
      "source": [
        "The API is provided by OpenAI.\n",
        "\n",
        "+ Davinci is used to process the input and return the output.\n",
        "\n",
        "+ The temperature will decide the random state of the answers. 0 means no change.\n",
        "\n",
        "+ The number of tokens is linked to the max length, while the completion will stop as the model thinks it should.\n",
        "\n",
        "+ Frequency penalty will control the frequency of words used in the email."
      ],
      "metadata": {
        "id": "LIcdGBoz4UA4"
      },
      "id": "LIcdGBoz4UA4"
    }
  ],
  "metadata": {
    "kernelspec": {
      "display_name": "Python 3 (ipykernel)",
      "language": "python",
      "name": "python3"
    },
    "language_info": {
      "codemirror_mode": {
        "name": "ipython",
        "version": 3
      },
      "file_extension": ".py",
      "mimetype": "text/x-python",
      "name": "python",
      "nbconvert_exporter": "python",
      "pygments_lexer": "ipython3",
      "version": "3.9.7"
    },
    "colab": {
      "name": "Tutorial.ipynb",
      "provenance": []
    }
  },
  "nbformat": 4,
  "nbformat_minor": 5
}